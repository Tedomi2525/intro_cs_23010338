{
 "cells": [
  {
   "cell_type": "code",
   "execution_count": 1,
   "id": "b0b1b4b1",
   "metadata": {},
   "outputs": [],
   "source": [
    "from guessgame import guess1\n"
   ]
  },
  {
   "cell_type": "code",
   "execution_count": 2,
   "id": "7456a0f0",
   "metadata": {},
   "outputs": [
    {
     "name": "stdout",
     "output_type": "stream",
     "text": [
      "What number am I think of? 6\n",
      "No, that's not it\n"
     ]
    }
   ],
   "source": [
    "guess1()"
   ]
  },
  {
   "cell_type": "code",
   "execution_count": null,
   "id": "cde101d0",
   "metadata": {},
   "outputs": [],
   "source": []
  }
 ],
 "metadata": {
  "kernelspec": {
   "display_name": "Python 3 (ipykernel)",
   "language": "python",
   "name": "python3"
  },
  "language_info": {
   "codemirror_mode": {
    "name": "ipython",
    "version": 3
   },
   "file_extension": ".py",
   "mimetype": "text/x-python",
   "name": "python",
   "nbconvert_exporter": "python",
   "pygments_lexer": "ipython3",
   "version": "3.9.7"
  }
 },
 "nbformat": 4,
 "nbformat_minor": 5
}
